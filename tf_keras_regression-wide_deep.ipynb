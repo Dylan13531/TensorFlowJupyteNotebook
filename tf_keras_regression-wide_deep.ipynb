{
 "cells": [
  {
   "cell_type": "code",
   "execution_count": 1,
   "metadata": {},
   "outputs": [
    {
     "name": "stdout",
     "output_type": "stream",
     "text": [
      "2.1.0\n",
      "sys.version_info(major=3, minor=6, micro=5, releaselevel='final', serial=0)\n",
      "matplotlib 2.2.2\n",
      "numpy 1.18.1\n",
      "pandas 0.25.3\n",
      "sklearn 0.19.1\n",
      "tensorflow 2.1.0\n",
      "tensorflow_core.python.keras.api._v2.keras 2.2.4-tf\n"
     ]
    }
   ],
   "source": [
    "import matplotlib as mpl\n",
    "import matplotlib.pyplot as plt\n",
    "%matplotlib inline\n",
    "import numpy as np\n",
    "import sklearn\n",
    "import pandas as pd\n",
    "import os\n",
    "import shutil\n",
    "import sys\n",
    "import time\n",
    "import pprint\n",
    "import tensorflow as tf\n",
    "from sklearn.model_selection import train_test_split\n",
    "from sklearn.datasets import fetch_california_housing\n",
    "from sklearn.preprocessing import StandardScaler\n",
    "\n",
    "from tensorflow import keras\n",
    "\n",
    "print(tf.__version__)\n",
    "print(sys.version_info)\n",
    "for module in mpl, np, pd, sklearn, tf, keras:\n",
    "    print(module.__name__, module.__version__)"
   ]
  },
  {
   "cell_type": "code",
   "execution_count": 2,
   "metadata": {},
   "outputs": [
    {
     "name": "stdout",
     "output_type": "stream",
     "text": [
      "California housing dataset.\n",
      "\n",
      "The original database is available from StatLib\n",
      "\n",
      "    http://lib.stat.cmu.edu/datasets/\n",
      "\n",
      "The data contains 20,640 observations on 9 variables.\n",
      "\n",
      "This dataset contains the average house value as target variable\n",
      "and the following input variables (features): average income,\n",
      "housing average age, average rooms, average bedrooms, population,\n",
      "average occupation, latitude, and longitude in that order.\n",
      "\n",
      "References\n",
      "----------\n",
      "\n",
      "Pace, R. Kelley and Ronald Barry, Sparse Spatial Autoregressions,\n",
      "Statistics and Probability Letters, 33 (1997) 291-297.\n",
      "\n",
      "\n",
      "(20640, 8)\n",
      "(20640,)\n"
     ]
    }
   ],
   "source": [
    "housing = fetch_california_housing()\n",
    "print(housing.DESCR)\n",
    "print(housing.data.shape)\n",
    "print(housing.target.shape)"
   ]
  },
  {
   "cell_type": "code",
   "execution_count": 3,
   "metadata": {},
   "outputs": [
    {
     "name": "stdout",
     "output_type": "stream",
     "text": [
      "array([[ 8.32520000e+00,  4.10000000e+01,  6.98412698e+00,\n",
      "         1.02380952e+00,  3.22000000e+02,  2.55555556e+00,\n",
      "         3.78800000e+01, -1.22230000e+02],\n",
      "       [ 8.30140000e+00,  2.10000000e+01,  6.23813708e+00,\n",
      "         9.71880492e-01,  2.40100000e+03,  2.10984183e+00,\n",
      "         3.78600000e+01, -1.22220000e+02],\n",
      "       [ 7.25740000e+00,  5.20000000e+01,  8.28813559e+00,\n",
      "         1.07344633e+00,  4.96000000e+02,  2.80225989e+00,\n",
      "         3.78500000e+01, -1.22240000e+02],\n",
      "       [ 5.64310000e+00,  5.20000000e+01,  5.81735160e+00,\n",
      "         1.07305936e+00,  5.58000000e+02,  2.54794521e+00,\n",
      "         3.78500000e+01, -1.22250000e+02],\n",
      "       [ 3.84620000e+00,  5.20000000e+01,  6.28185328e+00,\n",
      "         1.08108108e+00,  5.65000000e+02,  2.18146718e+00,\n",
      "         3.78500000e+01, -1.22250000e+02]])\n",
      "array([4.526, 3.585, 3.521, 3.413, 3.422])\n"
     ]
    }
   ],
   "source": [
    "pprint.pprint(housing.data[0:5])\n",
    "pprint.pprint(housing.target[0:5])"
   ]
  },
  {
   "cell_type": "code",
   "execution_count": 4,
   "metadata": {},
   "outputs": [
    {
     "name": "stdout",
     "output_type": "stream",
     "text": [
      "(11610, 8) (11610,)\n",
      "(3870, 8) (3870,)\n",
      "(5160, 8) (5160,)\n"
     ]
    }
   ],
   "source": [
    "x_train_all, x_test, y_train_all, y_test = train_test_split(housing.data, housing.target, random_state = 7)\n",
    "x_train, x_valid, y_train, y_valid = train_test_split(x_train_all, y_train_all, random_state=11)\n",
    "print(x_train.shape, y_train.shape)\n",
    "print(x_valid.shape, y_valid.shape)\n",
    "print(x_test.shape, y_test.shape)"
   ]
  },
  {
   "cell_type": "code",
   "execution_count": 5,
   "metadata": {},
   "outputs": [],
   "source": [
    "scaler = StandardScaler()\n",
    "x_train_scaled = scaler.fit_transform(x_train)\n",
    "x_valid_scaled = scaler.transform(x_valid)\n",
    "x_test_scaled = scaler.transform(x_test)"
   ]
  },
  {
   "cell_type": "code",
   "execution_count": 6,
   "metadata": {},
   "outputs": [
    {
     "name": "stdout",
     "output_type": "stream",
     "text": [
      "Model: \"model\"\n",
      "__________________________________________________________________________________________________\n",
      "Layer (type)                    Output Shape         Param #     Connected to                     \n",
      "==================================================================================================\n",
      "input_1 (InputLayer)            [(None, 8)]          0                                            \n",
      "__________________________________________________________________________________________________\n",
      "dense (Dense)                   (None, 30)           270         input_1[0][0]                    \n",
      "__________________________________________________________________________________________________\n",
      "batch_normalization (BatchNorma (None, 30)           120         dense[0][0]                      \n",
      "__________________________________________________________________________________________________\n",
      "dense_1 (Dense)                 (None, 30)           930         batch_normalization[0][0]        \n",
      "__________________________________________________________________________________________________\n",
      "batch_normalization_1 (BatchNor (None, 30)           120         dense_1[0][0]                    \n",
      "__________________________________________________________________________________________________\n",
      "dense_2 (Dense)                 (None, 30)           930         batch_normalization_1[0][0]      \n",
      "__________________________________________________________________________________________________\n",
      "batch_normalization_2 (BatchNor (None, 30)           120         dense_2[0][0]                    \n",
      "__________________________________________________________________________________________________\n",
      "concatenate (Concatenate)       (None, 38)           0           input_1[0][0]                    \n",
      "                                                                 batch_normalization_2[0][0]      \n",
      "__________________________________________________________________________________________________\n",
      "dense_3 (Dense)                 (None, 1)            39          concatenate[0][0]                \n",
      "==================================================================================================\n",
      "Total params: 2,529\n",
      "Trainable params: 2,349\n",
      "Non-trainable params: 180\n",
      "__________________________________________________________________________________________________\n"
     ]
    }
   ],
   "source": [
    "#函数式API 功能API\n",
    "input = keras.layers.Input(shape=x_train.shape[1:])\n",
    "hidden1 = keras.layers.Dense(30,activation='relu')(input)\n",
    "hidden11=keras.layers.BatchNormalization()(hidden1)   #批归一化\n",
    "\n",
    "hidden2 = keras.layers.Dense(30,activation='relu')(hidden11)\n",
    "hidden21=keras.layers.BatchNormalization()(hidden2)   #批归一化\n",
    "\n",
    "hidden3= keras.layers.Dense(30,activation='relu')(hidden21)\n",
    "hidden31=keras.layers.BatchNormalization()(hidden3)   #批归一化\n",
    "\n",
    "\n",
    "concat = keras.layers.concatenate([input, hidden31])\n",
    "output = keras.layers.Dense(1)(concat)\n",
    "model = keras.models.Model(inputs=[input],\n",
    "                          outputs=[output])\n",
    "model.summary()"
   ]
  },
  {
   "cell_type": "code",
   "execution_count": 7,
   "metadata": {},
   "outputs": [
    {
     "name": "stdout",
     "output_type": "stream",
     "text": [
      "Train on 11610 samples, validate on 3870 samples\n",
      "Epoch 1/20\n",
      "11610/11610 [==============================] - 2s 130us/sample - loss: 2.0229 - accuracy: 0.0019 - val_loss: 0.6299 - val_accuracy: 0.0023\n",
      "Epoch 2/20\n",
      "11610/11610 [==============================] - 1s 60us/sample - loss: 0.5866 - accuracy: 0.0031 - val_loss: 0.5207 - val_accuracy: 0.0021\n",
      "Epoch 3/20\n",
      "11610/11610 [==============================] - 1s 60us/sample - loss: 0.5258 - accuracy: 0.0030 - val_loss: 0.4924 - val_accuracy: 0.0023\n",
      "Epoch 4/20\n",
      "11610/11610 [==============================] - 1s 57us/sample - loss: 0.4669 - accuracy: 0.0031 - val_loss: 0.5196 - val_accuracy: 0.0023\n",
      "Epoch 5/20\n",
      "11610/11610 [==============================] - 1s 60us/sample - loss: 0.4159 - accuracy: 0.0031 - val_loss: 0.4813 - val_accuracy: 0.0023\n",
      "Epoch 6/20\n",
      "11610/11610 [==============================] - 1s 57us/sample - loss: 0.4036 - accuracy: 0.0031 - val_loss: 0.4856 - val_accuracy: 0.0023\n",
      "Epoch 7/20\n",
      "11610/11610 [==============================] - 1s 58us/sample - loss: 0.3846 - accuracy: 0.0029 - val_loss: 0.5053 - val_accuracy: 0.0023\n",
      "Epoch 8/20\n",
      "11610/11610 [==============================] - 1s 60us/sample - loss: 0.3696 - accuracy: 0.0029 - val_loss: 0.4418 - val_accuracy: 0.0023\n",
      "Epoch 9/20\n",
      "11610/11610 [==============================] - 1s 60us/sample - loss: 0.3622 - accuracy: 0.0030 - val_loss: 0.4756 - val_accuracy: 0.0021\n",
      "Epoch 10/20\n",
      "11610/11610 [==============================] - 1s 57us/sample - loss: 0.3580 - accuracy: 0.0030 - val_loss: 0.4879 - val_accuracy: 0.0023\n",
      "Epoch 11/20\n",
      "11610/11610 [==============================] - 1s 57us/sample - loss: 0.3480 - accuracy: 0.0030 - val_loss: 0.4692 - val_accuracy: 0.0023\n",
      "Epoch 12/20\n",
      "11610/11610 [==============================] - 1s 60us/sample - loss: 0.3436 - accuracy: 0.0030 - val_loss: 0.4166 - val_accuracy: 0.0021\n",
      "Epoch 13/20\n",
      "11610/11610 [==============================] - 1s 60us/sample - loss: 0.3391 - accuracy: 0.0028 - val_loss: 0.3680 - val_accuracy: 0.0021\n",
      "Epoch 14/20\n",
      "11610/11610 [==============================] - 1s 58us/sample - loss: 0.3306 - accuracy: 0.0030 - val_loss: 0.4236 - val_accuracy: 0.0021\n",
      "Epoch 15/20\n",
      "11610/11610 [==============================] - 1s 58us/sample - loss: 0.3314 - accuracy: 0.0031 - val_loss: 0.3967 - val_accuracy: 0.0021\n",
      "Epoch 16/20\n",
      "11610/11610 [==============================] - 1s 58us/sample - loss: 0.3194 - accuracy: 0.0031 - val_loss: 0.3845 - val_accuracy: 0.0021\n",
      "Epoch 17/20\n",
      "11610/11610 [==============================] - 1s 58us/sample - loss: 0.3172 - accuracy: 0.0030 - val_loss: 0.3992 - val_accuracy: 0.0021\n",
      "Epoch 18/20\n",
      "11610/11610 [==============================] - 1s 58us/sample - loss: 0.3183 - accuracy: 0.0030 - val_loss: 0.3743 - val_accuracy: 0.0021\n",
      "Epoch 19/20\n",
      "11610/11610 [==============================] - 1s 59us/sample - loss: 0.3113 - accuracy: 0.0031 - val_loss: 0.3728 - val_accuracy: 0.0023\n",
      "Epoch 20/20\n",
      "11610/11610 [==============================] - 1s 57us/sample - loss: 0.3131 - accuracy: 0.0030 - val_loss: 0.3728 - val_accuracy: 0.0021\n"
     ]
    }
   ],
   "source": [
    "model.compile(loss=\"mean_squared_error\",optimizer=\"adam\",metrics=[\"accuracy\"])\n",
    "\n",
    "#重新建立文件夹\n",
    "logdir = './wide_deep'\n",
    "if os.path.exists(logdir):\n",
    "    shutil.rmtree(logdir)\n",
    "os.mkdir(logdir)    \n",
    "output_model_file = os.path.join(logdir,\n",
    "                                \"house_price_model.h5\")\n",
    "\n",
    "#Tensorboard, earlystopping, ModelCheckpoint\n",
    "callbacks = [\n",
    "    keras.callbacks.TensorBoard(logdir),\n",
    "    keras.callbacks.ModelCheckpoint(output_model_file,\n",
    "                                   save_best_only=True),\n",
    "    keras.callbacks.EarlyStopping(patience=10, min_delta=1e-3), #连续5次损失函数和上一次差距小于1e-3即可停止训练    \n",
    "]\n",
    "his = model.fit(x_train_scaled,y_train,epochs=20, \n",
    "         validation_data=(x_valid_scaled,y_valid),\n",
    "                 callbacks = callbacks)  #epochs 训练次数\n",
    "#终端命令 tensorboard --logdir=callbacks "
   ]
  },
  {
   "cell_type": "code",
   "execution_count": 10,
   "metadata": {},
   "outputs": [
    {
     "data": {
      "image/png": "[encoded data removed]",
      "text/plain": [
       "<Figure size 576x360 with 1 Axes>"
      ]
     },
     "metadata": {},
     "output_type": "display_data"
    }
   ],
   "source": [
    " def plot_learning_curves(his):\n",
    "        pd.DataFrame(his.history).plot(figsize=(8,5))\n",
    "        plt.grid(True)\n",
    "        plt.gca().set_ylim(0,1)\n",
    "        plt.show()\n",
    "        \n",
    "plot_learning_curves(his)"
   ]
  },
  {
   "cell_type": "code",
   "execution_count": 9,
   "metadata": {},
   "outputs": [
    {
     "name": "stdout",
     "output_type": "stream",
     "text": [
      "5160/5160 [==============================] - 0s 21us/sample - loss: 0.5895 - accuracy: 0.0033\n"
     ]
    },
    {
     "data": {
      "text/plain": [
       "[0.5894544101500696, 0.0032945736]"
      ]
     },
     "execution_count": 9,
     "metadata": {},
     "output_type": "execute_result"
    }
   ],
   "source": [
    "model.evaluate(x_test_scaled, y_test)"
   ]
  },
  {
   "cell_type": "code",
   "execution_count": null,
   "metadata": {},
   "outputs": [],
   "source": []
  }
 ],
 "metadata": {
  "kernelspec": {
   "display_name": "Python 3",
   "language": "python",
   "name": "python3"
  },
  "language_info": {
   "codemirror_mode": {
    "name": "ipython",
    "version": 3
   },
   "file_extension": ".py",
   "mimetype": "text/x-python",
   "name": "python",
   "nbconvert_exporter": "python",
   "pygments_lexer": "ipython3",
   "version": "3.6.5"
  }
 },
 "nbformat": 4,
 "nbformat_minor": 2
}
