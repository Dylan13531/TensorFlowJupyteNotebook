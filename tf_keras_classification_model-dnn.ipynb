{
 "cells": [
  {
   "cell_type": "code",
   "execution_count": 1,
   "metadata": {},
   "outputs": [
    {
     "name": "stdout",
     "output_type": "stream",
     "text": [
      "2.1.0\n",
      "sys.version_info(major=3, minor=6, micro=5, releaselevel='final', serial=0)\n",
      "matplotlib 2.2.2\n",
      "numpy 1.18.1\n",
      "pandas 0.25.3\n",
      "sklearn 0.19.1\n",
      "tensorflow 2.1.0\n",
      "tensorflow_core.python.keras.api._v2.keras 2.2.4-tf\n"
     ]
    }
   ],
   "source": [
    "import matplotlib as mpl\n",
    "import matplotlib.pyplot as plt\n",
    "%matplotlib inline\n",
    "import numpy as np\n",
    "import sklearn\n",
    "import pandas as pd\n",
    "import os\n",
    "import sys\n",
    "import time\n",
    "import tensorflow as tf\n",
    "from sklearn.preprocessing import StandardScaler\n",
    "from tensorflow import keras\n",
    "print(tf.__version__ )\n",
    "print(sys.version_info)\n",
    "\n",
    "for module in mpl, np,pd,sklearn,tf,keras:\n",
    "    print(module.__name__, module.__version__)"
   ]
  },
  {
   "cell_type": "code",
   "execution_count": 2,
   "metadata": {},
   "outputs": [
    {
     "name": "stdout",
     "output_type": "stream",
     "text": [
      "(5000, 28, 28) (5000,)\n",
      "(55000, 28, 28) (55000,)\n",
      "(10000, 28, 28) (10000,)\n",
      "255 255 255\n"
     ]
    }
   ],
   "source": [
    "fashion_mnist = keras.datasets.fashion_mnist\n",
    "(x_train_all,y_train_all),(x_test,y_test) = fashion_mnist.load_data()\n",
    "\n",
    "x_valid,x_train = x_train_all[:5000],x_train_all[5000:]\n",
    "y_valid,y_train = y_train_all[:5000],y_train_all[5000:]\n",
    "\n",
    "print(x_valid.shape, y_valid.shape)\n",
    "print(x_train.shape, y_train.shape)\n",
    "print(x_test.shape, y_test.shape)\n",
    "print(np.max(x_train),np.max(x_valid),np.max(x_test))"
   ]
  },
  {
   "cell_type": "code",
   "execution_count": 3,
   "metadata": {},
   "outputs": [
    {
     "name": "stdout",
     "output_type": "stream",
     "text": [
      "2.023144 2.023144 2.023144\n"
     ]
    }
   ],
   "source": [
    "# x = (x-u)/std\n",
    "scaler = StandardScaler()\n",
    "x_train_scaled = scaler.fit_transform(\n",
    "    x_train.astype(np.float32).reshape(-1,1)).reshape(-1,28,28)\n",
    "x_valid_scaled = scaler.transform(\n",
    "    x_valid.astype(np.float32).reshape(-1,1)).reshape(-1,28,28)\n",
    "x_test_scaled = scaler.transform(\n",
    "    x_test.astype(np.float32).reshape(-1,1)).reshape(-1,28,28)\n",
    "\n",
    "print(np.max(x_train_scaled),np.max(x_valid_scaled),np.max(x_test_scaled))"
   ]
  },
  {
   "cell_type": "code",
   "execution_count": null,
   "metadata": {},
   "outputs": [],
   "source": [
    "def show_single_image(img_arr):\n",
    "    plt.imshow(img_arr,cmap=\"binary\")\n",
    "    plt.show()\n",
    "\n",
    "def show_imgs(n_rows,n_cols,x_data,y_data, classNames):\n",
    "    assert len(x_data)== len(y_data)\n",
    "    assert n_rows*n_cols < len(x_data)\n",
    "    plt.figure(figsize=(n_cols*1.4,n_rows*1.6))\n",
    "    for row in range(n_rows):\n",
    "        for col in range(n_cols):\n",
    "            index = row*n_cols+col\n",
    "            plt.subplot(n_rows,n_cols, index+1)\n",
    "            plt.imshow(x_data[index],cmap=\"binary\",interpolation=\"nearest\")\n",
    "            plt.axis('off')\n",
    "            plt.title(classNames[y_data[index]])\n",
    "    plt.show()\n",
    "\n",
    "class_names = ['T-shirt','Trouser','Pullover','Dress','coat','Sandal','Shirt',\n",
    "               'Sneaker','Bag','Ankle boot']\n",
    "show_imgs(4,7,x_train,y_train,class_names)"
   ]
  },
  {
   "cell_type": "code",
   "execution_count": 6,
   "metadata": {},
   "outputs": [],
   "source": [
    "#tf.keras.models.senquential\n",
    "#建立senquential 模型方式一\n",
    "\n",
    "# model = keras.models.Sequential()\n",
    "# model.add(keras.layers.Flatten(input_shape=[28,28]))\n",
    "# model.add(keras.layers.Dense(300,activation=\"relu\")) #全联接层\n",
    "# model.add(keras.layers.Dense(200,activation=\"relu\"))\n",
    "# model.add(keras.layers.Dense(10,activation=\"softmax\"))\n",
    "#relu = max(0,x)\n",
    "\n",
    "# model = keras.models.Sequential([\n",
    "#     keras.layers.Flatten(input_shape=[28,28]),#将矩阵flat\n",
    "#     keras.layers.Dense(300,activation=\"relu\"),#全联接层\n",
    "#     keras.layers.Dense(100,activation=\"relu\"),\n",
    "#     keras.layers.Dense(10,activation=\"softmax\")\n",
    "# ])\n",
    "\n",
    "\n",
    "model = keras.models.Sequential()\n",
    "model.add(keras.layers.Flatten(input_shape=[28,28]))\n",
    "for _ in range(20):\n",
    "    model.add(keras.layers.Dense(100,activation=\"relu\"))\n",
    "model.add(keras.layers.Dense(10,activation=\"softmax\"))\n",
    "model.compile(loss=\"sparse_categorical_crossentropy\", #sparse 的交叉损失熵\n",
    "             optimizer=\"adam\",\n",
    "             metrics = [\"accuracy\"])"
   ]
  },
  {
   "cell_type": "code",
   "execution_count": 8,
   "metadata": {},
   "outputs": [
    {
     "name": "stdout",
     "output_type": "stream",
     "text": [
      "Model: \"sequential_1\"\n",
      "_________________________________________________________________\n",
      "Layer (type)                 Output Shape              Param #   \n",
      "=================================================================\n",
      "flatten (Flatten)            (None, 784)               0         \n",
      "_________________________________________________________________\n",
      "dense (Dense)                (None, 100)               78500     \n",
      "_________________________________________________________________\n",
      "dense_1 (Dense)              (None, 100)               10100     \n",
      "_________________________________________________________________\n",
      "dense_2 (Dense)              (None, 100)               10100     \n",
      "_________________________________________________________________\n",
      "dense_3 (Dense)              (None, 100)               10100     \n",
      "_________________________________________________________________\n",
      "dense_4 (Dense)              (None, 100)               10100     \n",
      "_________________________________________________________________\n",
      "dense_5 (Dense)              (None, 100)               10100     \n",
      "_________________________________________________________________\n",
      "dense_6 (Dense)              (None, 100)               10100     \n",
      "_________________________________________________________________\n",
      "dense_7 (Dense)              (None, 100)               10100     \n",
      "_________________________________________________________________\n",
      "dense_8 (Dense)              (None, 100)               10100     \n",
      "_________________________________________________________________\n",
      "dense_9 (Dense)              (None, 100)               10100     \n",
      "_________________________________________________________________\n",
      "dense_10 (Dense)             (None, 100)               10100     \n",
      "_________________________________________________________________\n",
      "dense_11 (Dense)             (None, 100)               10100     \n",
      "_________________________________________________________________\n",
      "dense_12 (Dense)             (None, 100)               10100     \n",
      "_________________________________________________________________\n",
      "dense_13 (Dense)             (None, 100)               10100     \n",
      "_________________________________________________________________\n",
      "dense_14 (Dense)             (None, 100)               10100     \n",
      "_________________________________________________________________\n",
      "dense_15 (Dense)             (None, 100)               10100     \n",
      "_________________________________________________________________\n",
      "dense_16 (Dense)             (None, 100)               10100     \n",
      "_________________________________________________________________\n",
      "dense_17 (Dense)             (None, 100)               10100     \n",
      "_________________________________________________________________\n",
      "dense_18 (Dense)             (None, 100)               10100     \n",
      "_________________________________________________________________\n",
      "dense_19 (Dense)             (None, 100)               10100     \n",
      "_________________________________________________________________\n",
      "dense_20 (Dense)             (None, 10)                1010      \n",
      "=================================================================\n",
      "Total params: 271,410\n",
      "Trainable params: 271,410\n",
      "Non-trainable params: 0\n",
      "_________________________________________________________________\n"
     ]
    }
   ],
   "source": [
    "model.summary()"
   ]
  },
  {
   "cell_type": "code",
   "execution_count": 9,
   "metadata": {},
   "outputs": [
    {
     "name": "stdout",
     "output_type": "stream",
     "text": [
      "Train on 55000 samples, validate on 5000 samples\n",
      "Epoch 1/10\n",
      "55000/55000 [==============================] - 7s 122us/sample - loss: 0.8071 - accuracy: 0.6724 - val_loss: 0.6207 - val_accuracy: 0.7772\n",
      "Epoch 2/10\n",
      "55000/55000 [==============================] - 6s 115us/sample - loss: 0.7107 - accuracy: 0.7308 - val_loss: 0.6582 - val_accuracy: 0.7556\n",
      "Epoch 3/10\n",
      "55000/55000 [==============================] - 7s 121us/sample - loss: 0.6230 - accuracy: 0.7734 - val_loss: 0.5677 - val_accuracy: 0.7916\n",
      "Epoch 4/10\n",
      "55000/55000 [==============================] - 7s 119us/sample - loss: 0.5852 - accuracy: 0.7908 - val_loss: 0.5639 - val_accuracy: 0.7972\n",
      "Epoch 5/10\n",
      "55000/55000 [==============================] - 6s 115us/sample - loss: 0.6223 - accuracy: 0.7675 - val_loss: 0.6707 - val_accuracy: 0.7704\n",
      "Epoch 6/10\n",
      "55000/55000 [==============================] - 6s 114us/sample - loss: 0.6763 - accuracy: 0.7523 - val_loss: 0.7509 - val_accuracy: 0.6932\n",
      "Epoch 7/10\n",
      "55000/55000 [==============================] - 6s 114us/sample - loss: 0.6737 - accuracy: 0.7473 - val_loss: 0.6192 - val_accuracy: 0.7740\n",
      "Epoch 8/10\n",
      "55000/55000 [==============================] - 6s 116us/sample - loss: 0.8236 - accuracy: 0.6896 - val_loss: 0.8845 - val_accuracy: 0.6508\n",
      "Epoch 9/10\n",
      "55000/55000 [==============================] - 6s 115us/sample - loss: 0.7989 - accuracy: 0.7096 - val_loss: 0.9771 - val_accuracy: 0.6814\n"
     ]
    }
   ],
   "source": [
    "#Tensorboard, earlystopping, ModelCheckpoint\n",
    "logdir = './callbacks'\n",
    "if not os.path.exists(logdir):\n",
    "    os.mkdir(logdir)\n",
    "    \n",
    "output_model_file = os.path.join(logdir,\n",
    "                                \"fashion_mnist_model.h5\")\n",
    "\n",
    "callbacks = [\n",
    "    keras.callbacks.TensorBoard(logdir),\n",
    "    keras.callbacks.ModelCheckpoint(output_model_file,\n",
    "                                   save_best_only=True),\n",
    "    keras.callbacks.EarlyStopping(patience=5, min_delta=1e-3), #连续5次损失函数和上一次差距小于1e-3即可停止训练\n",
    "    \n",
    "]\n",
    "his = model.fit(x_train,y_train,epochs=10, \n",
    "         validation_data=(x_valid,y_valid),\n",
    "                 callbacks = callbacks)  #epochs 训练次数\n",
    "#终端命令 tensorboard --logdir=callbacks "
   ]
  },
  {
   "cell_type": "code",
   "execution_count": 10,
   "metadata": {},
   "outputs": [
    {
     "data": {
      "image/png": "[encoded data removed]",
      "text/plain": [
       "<Figure size 576x360 with 1 Axes>"
      ]
     },
     "metadata": {},
     "output_type": "display_data"
    }
   ],
   "source": [
    " def plot_learning_curves(his):\n",
    "        pd.DataFrame(his.history).plot(figsize=(8,5))\n",
    "        plt.grid(True)\n",
    "        plt.gca().set_ylim(0,1)\n",
    "        plt.show()\n",
    "        \n",
    "plot_learning_curves(his)"
   ]
  },
  {
   "cell_type": "code",
   "execution_count": null,
   "metadata": {},
   "outputs": [],
   "source": []
  }
 ],
 "metadata": {
  "kernelspec": {
   "display_name": "Python 3",
   "language": "python",
   "name": "python3"
  },
  "language_info": {
   "codemirror_mode": {
    "name": "ipython",
    "version": 3
   },
   "file_extension": ".py",
   "mimetype": "text/x-python",
   "name": "python",
   "nbconvert_exporter": "python",
   "pygments_lexer": "ipython3",
   "version": "3.6.5"
  }
 },
 "nbformat": 4,
 "nbformat_minor": 2
}
