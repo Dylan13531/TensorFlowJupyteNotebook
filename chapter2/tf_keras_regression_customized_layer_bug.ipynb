{
 "cells": [
  {
   "cell_type": "code",
   "execution_count": 26,
   "metadata": {},
   "outputs": [],
   "source": [
    "import matplotlib as mpl\n",
    "import matplotlib.pyplot as plt\n",
    "%matplotlib inline\n",
    "import numpy as np\n",
    "import sklearn\n",
    "import pandas as pd\n",
    "import os\n",
    "import shutil\n",
    "import sys\n",
    "import time\n",
    "import pprint\n",
    "import tensorflow as tf\n",
    "from sklearn.model_selection import train_test_split\n",
    "from sklearn.datasets import fetch_california_housing\n",
    "from sklearn.preprocessing import StandardScaler\n",
    "from tensorflow import keras\n",
    "\n",
    "# print(tf.__version__)\n",
    "# print(sys.version_info)\n",
    "# for module in mpl, np, pd, sklearn, tf, keras:\n",
    "#     print(module.__name__, module.__version__) "
   ]
  },
  {
   "cell_type": "code",
   "execution_count": 27,
   "metadata": {},
   "outputs": [],
   "source": [
    "#layer useage\n",
    "\n",
    "#layer = tf.keras.layers.Dense(100)\n",
    "#layer = tf.keras.layers.Dense(100,input_shape=(None,5)) #指定输入形式\n",
    "#layer(tf.zeros([10,5]))\n",
    "\n",
    "#layer.variables\n",
    "# x*w + b\n",
    "#layer.trainable_variables     #可训练变量\n",
    "#help(layer)"
   ]
  },
  {
   "cell_type": "code",
   "execution_count": 28,
   "metadata": {},
   "outputs": [],
   "source": [
    "#数据\n",
    "housing = fetch_california_housing()\n",
    "x_train_all, x_test, y_train_all, y_test = train_test_split(housing.data, housing.target, random_state = 7)\n",
    "x_train, x_valid, y_train, y_valid = train_test_split(x_train_all, y_train_all, random_state=11)\n",
    "\n",
    "\n",
    "# x = (x-u)/std（归一化）\n",
    "scaler = StandardScaler()\n",
    "x_train_scaled = scaler.fit_transform(\n",
    "    x_train.astype(np.float32))\n",
    "x_valid_scaled = scaler.transform(\n",
    "    x_valid.astype(np.float32))\n",
    "x_test_scaled = scaler.transform(\n",
    "    x_test.astype(np.float32))"
   ]
  },
  {
   "cell_type": "code",
   "execution_count": 33,
   "metadata": {},
   "outputs": [
    {
     "name": "stdout",
     "output_type": "stream",
     "text": [
      "tf.Tensor([4.5417706e-05 6.7153489e-03 6.9314718e-01 5.0067153e+00 1.0000046e+01], shape=(5,), dtype=float32)\n"
     ]
    }
   ],
   "source": [
    "#tf.nn.softplus : log(1+e^x)\n",
    "customized_softplus = keras.layers.Lambda(lambda x:tf.nn.softplus(x))\n",
    "print(customized_softplus([-10.,-5.,0.,5.,10.]))"
   ]
  },
  {
   "cell_type": "code",
   "execution_count": 35,
   "metadata": {},
   "outputs": [
    {
     "name": "stdout",
     "output_type": "stream",
     "text": [
      "Model: \"model\"\n",
      "_________________________________________________________________\n",
      "Layer (type)                 Output Shape              Param #   \n",
      "=================================================================\n",
      "input_1 (InputLayer)         [(None, 8)]               0         \n",
      "_________________________________________________________________\n",
      "customized_dense_layer_26 (C (None, 8)                 270       \n",
      "_________________________________________________________________\n",
      "customized_dense_layer_27 (C (None, 8)                 9         \n",
      "=================================================================\n",
      "Total params: 279\n",
      "Trainable params: 279\n",
      "Non-trainable params: 0\n",
      "_________________________________________________________________\n"
     ]
    }
   ],
   "source": [
    "# def customize_mse(y_true,y_pred):\n",
    "#     return tf.reduce_mean(tf.square(y_pred-y_true))\n",
    "\n",
    "#customized dense layer\n",
    "class CustomizedDenseLayer(keras.layers.Layer):\n",
    "    def __init__(self, units, activation=None, **kwargs):\n",
    "        self.units = units\n",
    "        self.activation = keras.layers.Activation(activation)\n",
    "        super(CustomizedDenseLayer,self).__init__(**kwargs)\n",
    "        \n",
    "        \n",
    "    def build(self, input_shape):\n",
    "        \"\"\"构建参数\"\"\"\n",
    "        #x * w +b. input_shape:(None,a), w[a,b] output_shape: [None,b ] \n",
    "        self.kernel = self.add_weight(name = 'kernel',\n",
    "                                      shape = (input_shape[1],self.units),\n",
    "                                      initializer = 'uniform',\n",
    "                                      trainable = True)\n",
    "        self.bias = self.add_weight(name = 'bias',\n",
    "                                   shape = (self.units,),\n",
    "                                   initializer = 'zeros',\n",
    "                                   trainable = True)\n",
    "        super(CustomizedDenseLayer,self).build(input_shape)\n",
    "        \n",
    "        def call(self,x):\n",
    "            # 完成正向计算\n",
    "            result = x@self.kernel + self.bias\n",
    "            print(result.value().shape)\n",
    "            return self.activation(x @ self.kernel + self.bias)\n",
    "\n",
    "# model = keras.models.Sequential([\n",
    "#     CustomizedDenseLayer(units=30,activation='relu',\n",
    "#                       input_shape=x_train.shape[1:]),\n",
    "#     CustomizedDenseLayer(1),\n",
    "#     customize_softplus,        \n",
    "# ])\n",
    "\n",
    "inputi = keras.layers.Input(shape=x_train.shape[1:])\n",
    "hidden = CustomizedDenseLayer(30,activation='relu')(inputi)\n",
    "output = CustomizedDenseLayer(1,activation='relu')(hidden)\n",
    "model = keras.models.Model(inputs=[inputi],outputs=[output])        \n",
    "        \n",
    "# model = keras.models.Sequential([\n",
    "#     keras.layers.Dense(units=30,activation='relu',\n",
    "#                       input_shape=x_train.shape[1:]),\n",
    "#     keras.layers.Dense(1)\n",
    "# ])\n",
    "model.compile(loss='mean_squared_error' ,optimizer=\"sgd\")\n",
    "callbacks = [keras.callbacks.EarlyStopping(\n",
    "    patience=5, min_delta=1e-2)]\n",
    "model.summary()"
   ]
  },
  {
   "cell_type": "code",
   "execution_count": 31,
   "metadata": {},
   "outputs": [
    {
     "name": "stdout",
     "output_type": "stream",
     "text": [
      "Train on 11610 samples, validate on 3870 samples\n",
      "Epoch 1/100\n",
      "11610/11610 [==============================] - 1s 48us/sample - loss: 1.7198 - val_loss: 0.5588\n",
      "Epoch 2/100\n",
      "11610/11610 [==============================] - 0s 31us/sample - loss: 0.4528 - val_loss: 0.4349\n",
      "Epoch 3/100\n",
      "11610/11610 [==============================] - 0s 32us/sample - loss: 0.4031 - val_loss: 0.4009\n",
      "Epoch 4/100\n",
      "11610/11610 [==============================] - 0s 32us/sample - loss: 0.3843 - val_loss: 0.3881\n",
      "Epoch 5/100\n",
      "11610/11610 [==============================] - 0s 32us/sample - loss: 0.3838 - val_loss: 0.3763\n",
      "Epoch 6/100\n",
      "11610/11610 [==============================] - 0s 32us/sample - loss: 0.3816 - val_loss: 0.3816\n",
      "Epoch 7/100\n",
      "11610/11610 [==============================] - 0s 31us/sample - loss: 0.3735 - val_loss: 0.3733\n",
      "Epoch 8/100\n",
      "11610/11610 [==============================] - 0s 32us/sample - loss: 0.3668 - val_loss: 0.3709\n",
      "Epoch 9/100\n",
      "11610/11610 [==============================] - 0s 32us/sample - loss: 0.3632 - val_loss: 0.3708\n",
      "Epoch 10/100\n",
      "11610/11610 [==============================] - 0s 32us/sample - loss: 0.3597 - val_loss: 0.3735\n"
     ]
    },
    {
     "data": {
      "image/png": "[encoded data removed]",
      "text/plain": [
       "<Figure size 576x360 with 1 Axes>"
      ]
     },
     "metadata": {},
     "output_type": "display_data"
    }
   ],
   "source": [
    "history = model.fit(x_train_scaled,y_train,\n",
    "                    validation_data=(x_valid_scaled,y_valid),\n",
    "                   epochs=100,\n",
    "                   callbacks = callbacks)\n",
    "def plot_learning_curves(his):\n",
    "        pd.DataFrame(his.history).plot(figsize=(8,5))\n",
    "        plt.grid(True)\n",
    "        plt.gca().set_ylim(0.3,0.6)\n",
    "        plt.show()\n",
    "        \n",
    "plot_learning_curves(history)"
   ]
  },
  {
   "cell_type": "code",
   "execution_count": 32,
   "metadata": {},
   "outputs": [
    {
     "name": "stdout",
     "output_type": "stream",
     "text": [
      "5160/5160 [==============================] - 0s 17us/sample - loss: 0.3827\n"
     ]
    },
    {
     "data": {
      "text/plain": [
       "0.3827272061229676"
      ]
     },
     "execution_count": 32,
     "metadata": {},
     "output_type": "execute_result"
    }
   ],
   "source": [
    "model.evaluate(x_test_scaled,y_test)"
   ]
  },
  {
   "cell_type": "code",
   "execution_count": null,
   "metadata": {},
   "outputs": [],
   "source": []
  }
 ],
 "metadata": {
  "kernelspec": {
   "display_name": "Python 3",
   "language": "python",
   "name": "python3"
  },
  "language_info": {
   "codemirror_mode": {
    "name": "ipython",
    "version": 3
   },
   "file_extension": ".py",
   "mimetype": "text/x-python",
   "name": "python",
   "nbconvert_exporter": "python",
   "pygments_lexer": "ipython3",
   "version": "3.6.5"
  }
 },
 "nbformat": 4,
 "nbformat_minor": 2
}
