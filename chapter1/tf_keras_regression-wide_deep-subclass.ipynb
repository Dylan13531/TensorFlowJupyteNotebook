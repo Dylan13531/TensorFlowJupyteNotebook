{
 "cells": [
  {
   "cell_type": "code",
   "execution_count": 16,
   "metadata": {},
   "outputs": [
    {
     "name": "stdout",
     "output_type": "stream",
     "text": [
      "2.1.0\n",
      "sys.version_info(major=3, minor=6, micro=5, releaselevel='final', serial=0)\n",
      "matplotlib 2.2.2\n",
      "numpy 1.18.1\n",
      "pandas 0.25.3\n",
      "sklearn 0.19.1\n",
      "tensorflow 2.1.0\n",
      "tensorflow_core.keras 2.2.4-tf\n"
     ]
    }
   ],
   "source": [
    "import matplotlib as mpl\n",
    "import matplotlib.pyplot as plt\n",
    "%matplotlib inline\n",
    "import numpy as np\n",
    "import sklearn\n",
    "import pandas as pd\n",
    "import os\n",
    "import shutil\n",
    "import sys\n",
    "import time\n",
    "import pprint\n",
    "import tensorflow as tf\n",
    "from sklearn.model_selection import train_test_split\n",
    "from sklearn.datasets import fetch_california_housing\n",
    "from sklearn.preprocessing import StandardScaler\n",
    "\n",
    "from tensorflow import keras\n",
    "\n",
    "print(tf.__version__)\n",
    "print(sys.version_info)\n",
    "for module in mpl, np, pd, sklearn, tf, keras:\n",
    "    print(module.__name__, module.__version__)"
   ]
  },
  {
   "cell_type": "code",
   "execution_count": 17,
   "metadata": {},
   "outputs": [
    {
     "name": "stdout",
     "output_type": "stream",
     "text": [
      "California housing dataset.\n",
      "\n",
      "The original database is available from StatLib\n",
      "\n",
      "    http://lib.stat.cmu.edu/datasets/\n",
      "\n",
      "The data contains 20,640 observations on 9 variables.\n",
      "\n",
      "This dataset contains the average house value as target variable\n",
      "and the following input variables (features): average income,\n",
      "housing average age, average rooms, average bedrooms, population,\n",
      "average occupation, latitude, and longitude in that order.\n",
      "\n",
      "References\n",
      "----------\n",
      "\n",
      "Pace, R. Kelley and Ronald Barry, Sparse Spatial Autoregressions,\n",
      "Statistics and Probability Letters, 33 (1997) 291-297.\n",
      "\n",
      "\n",
      "(20640, 8)\n",
      "(20640,)\n"
     ]
    }
   ],
   "source": [
    "housing = fetch_california_housing()\n",
    "print(housing.DESCR)\n",
    "print(housing.data.shape)\n",
    "print(housing.target.shape)"
   ]
  },
  {
   "cell_type": "code",
   "execution_count": 18,
   "metadata": {},
   "outputs": [
    {
     "name": "stdout",
     "output_type": "stream",
     "text": [
      "array([[ 8.32520000e+00,  4.10000000e+01,  6.98412698e+00,\n",
      "         1.02380952e+00,  3.22000000e+02,  2.55555556e+00,\n",
      "         3.78800000e+01, -1.22230000e+02],\n",
      "       [ 8.30140000e+00,  2.10000000e+01,  6.23813708e+00,\n",
      "         9.71880492e-01,  2.40100000e+03,  2.10984183e+00,\n",
      "         3.78600000e+01, -1.22220000e+02],\n",
      "       [ 7.25740000e+00,  5.20000000e+01,  8.28813559e+00,\n",
      "         1.07344633e+00,  4.96000000e+02,  2.80225989e+00,\n",
      "         3.78500000e+01, -1.22240000e+02],\n",
      "       [ 5.64310000e+00,  5.20000000e+01,  5.81735160e+00,\n",
      "         1.07305936e+00,  5.58000000e+02,  2.54794521e+00,\n",
      "         3.78500000e+01, -1.22250000e+02],\n",
      "       [ 3.84620000e+00,  5.20000000e+01,  6.28185328e+00,\n",
      "         1.08108108e+00,  5.65000000e+02,  2.18146718e+00,\n",
      "         3.78500000e+01, -1.22250000e+02]])\n",
      "array([4.526, 3.585, 3.521, 3.413, 3.422])\n"
     ]
    }
   ],
   "source": [
    "pprint.pprint(housing.data[0:5])\n",
    "pprint.pprint(housing.target[0:5])"
   ]
  },
  {
   "cell_type": "code",
   "execution_count": 19,
   "metadata": {},
   "outputs": [
    {
     "name": "stdout",
     "output_type": "stream",
     "text": [
      "(11610, 8) (11610,)\n",
      "(3870, 8) (3870,)\n",
      "(5160, 8) (5160,)\n"
     ]
    }
   ],
   "source": [
    "x_train_all, x_test, y_train_all, y_test = train_test_split(housing.data, housing.target, random_state = 7)\n",
    "x_train, x_valid, y_train, y_valid = train_test_split(x_train_all, y_train_all, random_state=11)\n",
    "print(x_train.shape, y_train.shape)\n",
    "print(x_valid.shape, y_valid.shape)\n",
    "print(x_test.shape, y_test.shape)"
   ]
  },
  {
   "cell_type": "code",
   "execution_count": 20,
   "metadata": {},
   "outputs": [],
   "source": [
    "scaler = StandardScaler()\n",
    "x_train_scaled = scaler.fit_transform(x_train)\n",
    "x_valid_scaled = scaler.transform(x_valid)\n",
    "x_test_scaled = scaler.transform(x_test)"
   ]
  },
  {
   "cell_type": "code",
   "execution_count": 21,
   "metadata": {},
   "outputs": [
    {
     "name": "stdout",
     "output_type": "stream",
     "text": [
      "Model: \"sequential_2\"\n",
      "_________________________________________________________________\n",
      "Layer (type)                 Output Shape              Param #   \n",
      "=================================================================\n",
      "wide_deep_model_2 (WideDeepM multiple                  1471      \n",
      "=================================================================\n",
      "Total params: 1,471\n",
      "Trainable params: 1,351\n",
      "Non-trainable params: 120\n",
      "_________________________________________________________________\n"
     ]
    }
   ],
   "source": [
    "#函数式API 功能API\n",
    "# input = keras.layers.Input(shape=x_train.shape[1:])\n",
    "# hidden1 = keras.layers.Dense(30,activation='relu')(input)\n",
    "# hidden11=keras.layers.BatchNormalization()(hidden1)   #批归一化\n",
    "\n",
    "# hidden2 = keras.layers.Dense(30,activation='relu')(hidden11)\n",
    "# hidden21=keras.layers.BatchNormalization()(hidden2)   #批归一化\n",
    "\n",
    "# hidden3= keras.layers.Dense(30,activation='relu')(hidden21)\n",
    "# hidden31=keras.layers.BatchNormalization()(hidden3)   #批归一化\n",
    "\n",
    "\n",
    "# concat = keras.layers.concatenate([input, hidden31])\n",
    "# output = keras.layers.Dense(1)(concat)\n",
    "# model = keras.models.Model(inputs=[input],\n",
    "#                           outputs=[output])\n",
    "\n",
    "#子类API\n",
    "class WideDeepModel(keras.models.Model):\n",
    "    def __init__(self):\n",
    "        super(WideDeepModel,self).__init__()\n",
    "        \"\"\"定义函数层次\"\"\"\n",
    "        self.hidden1_layer = keras.layers.Dense(30)                 #定义一个全联接层\n",
    "        self.hidden11_layer=keras.layers.BatchNormalization()       #批归一化\n",
    "        self.hidden12_layer = keras.layers.Activation('relu')       #激活函数\n",
    "        self.hidden2_layer = keras.layers.Dense(30)\n",
    "        self.hidden21_layer=keras.layers.BatchNormalization()\n",
    "        self.hidden22_layer = keras.layers.Activation('relu')\n",
    "        self.output_layer = keras.layers.Dense(1)\n",
    "        \n",
    "    def call(self,input):\n",
    "        hidden1 = self.hidden1_layer(input)\n",
    "        hidden11 = self.hidden11_layer(hidden1)\n",
    "        hidden12 = self.hidden12_layer(hidden11)\n",
    "        \n",
    "        hidden2 = self.hidden2_layer(hidden12)\n",
    "        hidden21 = self.hidden21_layer(hidden2)\n",
    "        hidden22 = self.hidden22_layer(hidden21)\n",
    "        concat = keras.layers.concatenate([input,hidden22])\n",
    "        output = self.output_layer(hidden22)\n",
    "        return output\n",
    "#model = WideDeepModel()\n",
    "\n",
    "model = keras.models.Sequential([\n",
    "    WideDeepModel(),\n",
    "])\n",
    "model.build(input_shape=(None,8))\n",
    "model.summary()"
   ]
  },
  {
   "cell_type": "code",
   "execution_count": 29,
   "metadata": {},
   "outputs": [
    {
     "name": "stdout",
     "output_type": "stream",
     "text": [
      "Train on 11610 samples, validate on 3870 samples\n",
      "Epoch 1/100\n",
      "11610/11610 [==============================] - 1s 83us/sample - loss: 0.3702 - val_loss: 0.4172\n",
      "Epoch 2/100\n",
      "11610/11610 [==============================] - 0s 42us/sample - loss: 0.3582 - val_loss: 0.4105\n",
      "Epoch 3/100\n",
      "11610/11610 [==============================] - 0s 42us/sample - loss: 0.3622 - val_loss: 0.4075\n",
      "Epoch 4/100\n",
      "11610/11610 [==============================] - 0s 43us/sample - loss: 0.3636 - val_loss: 0.4285\n",
      "Epoch 5/100\n",
      "11610/11610 [==============================] - 0s 42us/sample - loss: 0.3592 - val_loss: 0.4685\n",
      "Epoch 6/100\n",
      "11610/11610 [==============================] - 0s 41us/sample - loss: 0.3640 - val_loss: 0.4026\n",
      "Epoch 7/100\n",
      "11610/11610 [==============================] - 0s 43us/sample - loss: 0.3579 - val_loss: 0.4195\n",
      "Epoch 8/100\n",
      "11610/11610 [==============================] - 0s 42us/sample - loss: 0.3546 - val_loss: 0.4865\n",
      "Epoch 9/100\n",
      "11610/11610 [==============================] - 0s 41us/sample - loss: 0.3548 - val_loss: 0.5171\n",
      "Epoch 10/100\n",
      "11610/11610 [==============================] - 0s 42us/sample - loss: 0.3560 - val_loss: 0.5450\n",
      "Epoch 11/100\n",
      "11610/11610 [==============================] - 0s 41us/sample - loss: 0.3619 - val_loss: 0.4586\n"
     ]
    }
   ],
   "source": [
    "model.compile(loss=\"mean_squared_error\",optimizer=\"sgd\")#,metrics=[\"accuracy\"])\n",
    "\n",
    "#重新建立文件夹\n",
    "logdir = './wide_deep_subclass'\n",
    "if os.path.exists(logdir):\n",
    "    shutil.rmtree(logdir)\n",
    "os.mkdir(logdir)    \n",
    "output_model_file = os.path.join(logdir,\n",
    "                                \"house_price_model.h5\")\n",
    "\n",
    "#Tensorboard, earlystopping, ModelCheckpoint\n",
    "callbacks = [\n",
    "#    keras.callbacks.TensorBoard(logdir),\n",
    "#    keras.callbacks.ModelCheckpoint(output_model_file,\n",
    "#                                   save_best_only=True),\n",
    "    keras.callbacks.EarlyStopping(patience=5, min_delta=1e-2) #连续5次损失函数和上一次差距小于1e-3即可停止训练    \n",
    "]\n",
    "his = model.fit(x_train_scaled,y_train,\n",
    "                epochs =100, \n",
    "         validation_data=(x_valid_scaled,y_valid),\n",
    "                 callbacks = callbacks)  #epochs 训练次数\n",
    "#终端命令 tensorboard --logdir=callbacks "
   ]
  },
  {
   "cell_type": "code",
   "execution_count": 31,
   "metadata": {},
   "outputs": [
    {
     "data": {
      "image/png": "[encoded data removed]",
      "text/plain": [
       "<Figure size 576x360 with 1 Axes>"
      ]
     },
     "metadata": {},
     "output_type": "display_data"
    }
   ],
   "source": [
    " def plot_learning_curves(his):\n",
    "        pd.DataFrame(his.history).plot(figsize=(8,5))\n",
    "        plt.grid(True)\n",
    "        plt.gca().set_ylim(0.3,0.6)\n",
    "        plt.show()\n",
    "        \n",
    "plot_learning_curves(his)"
   ]
  },
  {
   "cell_type": "code",
   "execution_count": 32,
   "metadata": {},
   "outputs": [
    {
     "name": "stdout",
     "output_type": "stream",
     "text": [
      "5160/5160 [==============================] - 0s 21us/sample - loss: 0.4808\n"
     ]
    },
    {
     "data": {
      "text/plain": [
       "0.48077174231063485"
      ]
     },
     "execution_count": 32,
     "metadata": {},
     "output_type": "execute_result"
    }
   ],
   "source": [
    "model.evaluate(x_test_scaled, y_test)"
   ]
  },
  {
   "cell_type": "code",
   "execution_count": null,
   "metadata": {},
   "outputs": [],
   "source": []
  }
 ],
 "metadata": {
  "kernelspec": {
   "display_name": "Python 3",
   "language": "python",
   "name": "python3"
  },
  "language_info": {
   "codemirror_mode": {
    "name": "ipython",
    "version": 3
   },
   "file_extension": ".py",
   "mimetype": "text/x-python",
   "name": "python",
   "nbconvert_exporter": "python",
   "pygments_lexer": "ipython3",
   "version": "3.6.5"
  }
 },
 "nbformat": 4,
 "nbformat_minor": 2
}
