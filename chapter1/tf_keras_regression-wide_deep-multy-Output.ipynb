{
 "cells": [
  {
   "cell_type": "code",
   "execution_count": 1,
   "metadata": {},
   "outputs": [
    {
     "name": "stdout",
     "output_type": "stream",
     "text": [
      "2.1.0\n",
      "sys.version_info(major=3, minor=6, micro=5, releaselevel='final', serial=0)\n",
      "matplotlib 2.2.2\n",
      "numpy 1.18.1\n",
      "pandas 0.25.3\n",
      "sklearn 0.19.1\n",
      "tensorflow 2.1.0\n",
      "tensorflow_core.python.keras.api._v2.keras 2.2.4-tf\n"
     ]
    }
   ],
   "source": [
    "import matplotlib as mpl\n",
    "import matplotlib.pyplot as plt\n",
    "%matplotlib inline\n",
    "import numpy as np\n",
    "import sklearn\n",
    "import pandas as pd\n",
    "import os\n",
    "import shutil\n",
    "import sys\n",
    "import time\n",
    "import pprint\n",
    "import tensorflow as tf\n",
    "from sklearn.model_selection import train_test_split\n",
    "from sklearn.datasets import fetch_california_housing\n",
    "from sklearn.preprocessing import StandardScaler\n",
    "\n",
    "from tensorflow import keras\n",
    "\n",
    "print(tf.__version__)\n",
    "print(sys.version_info)\n",
    "for module in mpl, np, pd, sklearn, tf, keras:\n",
    "    print(module.__name__, module.__version__)"
   ]
  },
  {
   "cell_type": "code",
   "execution_count": 2,
   "metadata": {},
   "outputs": [
    {
     "name": "stdout",
     "output_type": "stream",
     "text": [
      "California housing dataset.\n",
      "\n",
      "The original database is available from StatLib\n",
      "\n",
      "    http://lib.stat.cmu.edu/datasets/\n",
      "\n",
      "The data contains 20,640 observations on 9 variables.\n",
      "\n",
      "This dataset contains the average house value as target variable\n",
      "and the following input variables (features): average income,\n",
      "housing average age, average rooms, average bedrooms, population,\n",
      "average occupation, latitude, and longitude in that order.\n",
      "\n",
      "References\n",
      "----------\n",
      "\n",
      "Pace, R. Kelley and Ronald Barry, Sparse Spatial Autoregressions,\n",
      "Statistics and Probability Letters, 33 (1997) 291-297.\n",
      "\n",
      "\n",
      "(20640, 8)\n",
      "(20640,)\n"
     ]
    }
   ],
   "source": [
    "housing = fetch_california_housing()\n",
    "print(housing.DESCR)\n",
    "print(housing.data.shape)\n",
    "print(housing.target.shape)"
   ]
  },
  {
   "cell_type": "code",
   "execution_count": 3,
   "metadata": {},
   "outputs": [
    {
     "name": "stdout",
     "output_type": "stream",
     "text": [
      "array([[ 8.32520000e+00,  4.10000000e+01,  6.98412698e+00,\n",
      "         1.02380952e+00,  3.22000000e+02,  2.55555556e+00,\n",
      "         3.78800000e+01, -1.22230000e+02],\n",
      "       [ 8.30140000e+00,  2.10000000e+01,  6.23813708e+00,\n",
      "         9.71880492e-01,  2.40100000e+03,  2.10984183e+00,\n",
      "         3.78600000e+01, -1.22220000e+02],\n",
      "       [ 7.25740000e+00,  5.20000000e+01,  8.28813559e+00,\n",
      "         1.07344633e+00,  4.96000000e+02,  2.80225989e+00,\n",
      "         3.78500000e+01, -1.22240000e+02],\n",
      "       [ 5.64310000e+00,  5.20000000e+01,  5.81735160e+00,\n",
      "         1.07305936e+00,  5.58000000e+02,  2.54794521e+00,\n",
      "         3.78500000e+01, -1.22250000e+02],\n",
      "       [ 3.84620000e+00,  5.20000000e+01,  6.28185328e+00,\n",
      "         1.08108108e+00,  5.65000000e+02,  2.18146718e+00,\n",
      "         3.78500000e+01, -1.22250000e+02]])\n",
      "array([4.526, 3.585, 3.521, 3.413, 3.422])\n"
     ]
    }
   ],
   "source": [
    "pprint.pprint(housing.data[0:5])\n",
    "pprint.pprint(housing.target[0:5])"
   ]
  },
  {
   "cell_type": "code",
   "execution_count": 4,
   "metadata": {},
   "outputs": [
    {
     "name": "stdout",
     "output_type": "stream",
     "text": [
      "(11610, 8) (11610,)\n",
      "(3870, 8) (3870,)\n",
      "(5160, 8) (5160,)\n"
     ]
    }
   ],
   "source": [
    "x_train_all, x_test, y_train_all, y_test = train_test_split(housing.data, housing.target, random_state = 7)\n",
    "x_train, x_valid, y_train, y_valid = train_test_split(x_train_all, y_train_all, random_state=11)\n",
    "print(x_train.shape, y_train.shape)\n",
    "print(x_valid.shape, y_valid.shape)\n",
    "print(x_test.shape, y_test.shape)"
   ]
  },
  {
   "cell_type": "code",
   "execution_count": 5,
   "metadata": {},
   "outputs": [],
   "source": [
    "scaler = StandardScaler()\n",
    "x_train_scaled = scaler.fit_transform(x_train)\n",
    "x_valid_scaled = scaler.transform(x_valid)\n",
    "x_test_scaled = scaler.transform(x_test)"
   ]
  },
  {
   "cell_type": "code",
   "execution_count": 6,
   "metadata": {},
   "outputs": [
    {
     "name": "stdout",
     "output_type": "stream",
     "text": [
      "Model: \"model\"\n",
      "__________________________________________________________________________________________________\n",
      "Layer (type)                    Output Shape         Param #     Connected to                     \n",
      "==================================================================================================\n",
      "input_2 (InputLayer)            [(None, 6)]          0                                            \n",
      "__________________________________________________________________________________________________\n",
      "dense (Dense)                   (None, 30)           210         input_2[0][0]                    \n",
      "__________________________________________________________________________________________________\n",
      "batch_normalization (BatchNorma (None, 30)           120         dense[0][0]                      \n",
      "__________________________________________________________________________________________________\n",
      "dense_1 (Dense)                 (None, 30)           930         batch_normalization[0][0]        \n",
      "__________________________________________________________________________________________________\n",
      "batch_normalization_1 (BatchNor (None, 30)           120         dense_1[0][0]                    \n",
      "__________________________________________________________________________________________________\n",
      "dense_2 (Dense)                 (None, 30)           930         batch_normalization_1[0][0]      \n",
      "__________________________________________________________________________________________________\n",
      "input_1 (InputLayer)            [(None, 5)]          0                                            \n",
      "__________________________________________________________________________________________________\n",
      "batch_normalization_2 (BatchNor (None, 30)           120         dense_2[0][0]                    \n",
      "__________________________________________________________________________________________________\n",
      "concatenate (Concatenate)       (None, 35)           0           input_1[0][0]                    \n",
      "                                                                 batch_normalization_2[0][0]      \n",
      "__________________________________________________________________________________________________\n",
      "dense_3 (Dense)                 (None, 1)            36          concatenate[0][0]                \n",
      "__________________________________________________________________________________________________\n",
      "dense_4 (Dense)                 (None, 1)            31          dense_1[0][0]                    \n",
      "==================================================================================================\n",
      "Total params: 2,497\n",
      "Trainable params: 2,317\n",
      "Non-trainable params: 180\n",
      "__________________________________________________________________________________________________\n"
     ]
    }
   ],
   "source": [
    "#函数式API 功能API\n",
    "# input = keras.layers.Input(shape=x_train.shape[1:])\n",
    "# hidden1 = keras.layers.Dense(30,activation='relu')(input)\n",
    "# hidden11=keras.layers.BatchNormalization()(hidden1)   #批归一化\n",
    "\n",
    "# hidden2 = keras.layers.Dense(30,activation='relu')(hidden11)\n",
    "# hidden21=keras.layers.BatchNormalization()(hidden2)   #批归一化\n",
    "\n",
    "# hidden3= keras.layers.Dense(30,activation='relu')(hidden21)\n",
    "# hidden31=keras.layers.BatchNormalization()(hidden3)   #批归一化\n",
    "\n",
    "\n",
    "# concat = keras.layers.concatenate([input, hidden31])\n",
    "# output = keras.layers.Dense(1)(concat)\n",
    "# model = keras.models.Model(inputs=[input],\n",
    "#                           outputs=[output])\n",
    "\n",
    "\n",
    "#子类API\n",
    "# class WideDeepModel(keras.models.Model):\n",
    "#     def __init__(self):\n",
    "#         super(WideDeepModel,self).__init__()\n",
    "#         \"\"\"定义函数层次\"\"\"\n",
    "#         self.hidden1_layer = keras.layers.Dense(30)                 #定义一个全联接层\n",
    "#         self.hidden11_layer=keras.layers.BatchNormalization()       #批归一化\n",
    "#         self.hidden12_layer = keras.layers.Activation('relu')       #激活函数\n",
    "#         self.hidden2_layer = keras.layers.Dense(30)\n",
    "#         self.hidden21_layer=keras.layers.BatchNormalization()\n",
    "#         self.hidden22_layer = keras.layers.Activation('relu')\n",
    "#         self.output_layer = keras.layers.Dense(1)\n",
    "        \n",
    "#     def call(self,input):\n",
    "#         hidden1 = self.hidden1_layer(input)\n",
    "#         hidden11 = self.hidden11_layer(hidden1)\n",
    "#         hidden12 = self.hidden12_layer(hidden11)\n",
    "        \n",
    "#         hidden2 = self.hidden2_layer(hidden12)\n",
    "#         hidden21 = self.hidden21_layer(hidden2)\n",
    "#         hidden22 = self.hidden22_layer(hidden21)\n",
    "#         concat = keras.layers.concatenate([input,hidden22])\n",
    "#         output = self.output_layer(hidden22)\n",
    "#         return output\n",
    "# #model = WideDeepModel()\n",
    "\n",
    "# model = keras.models.Sequential([\n",
    "#     WideDeepModel(),\n",
    "# ])\n",
    "\n",
    "#多输入\n",
    "input_wide = keras.layers.Input(shape=[5])\n",
    "input_deep = keras.layers.Input(shape=[6])\n",
    "hidden1 = keras.layers.Dense(30,activation='relu')(input_deep)\n",
    "hidden11=keras.layers.BatchNormalization()(hidden1)   #批归一化\n",
    "\n",
    "hidden2 = keras.layers.Dense(30,activation='relu')(hidden11)\n",
    "hidden21=keras.layers.BatchNormalization()(hidden2)   #批归一化\n",
    "\n",
    "hidden3= keras.layers.Dense(30,activation='relu')(hidden21)\n",
    "hidden31=keras.layers.BatchNormalization()(hidden3)   #批归一化\n",
    "\n",
    "\n",
    "concat = keras.layers.concatenate([input_wide, hidden31])\n",
    "output = keras.layers.Dense(1)(concat)\n",
    "output2 = keras.layers.Dense(1)(hidden2)\n",
    "model = keras.models.Model(inputs=[input_wide,input_deep],outputs=[output,output2])\n",
    "model.summary()"
   ]
  },
  {
   "cell_type": "code",
   "execution_count": 7,
   "metadata": {},
   "outputs": [],
   "source": [
    "x_train_scaled_wide = x_train_scaled[:,:5]\n",
    "x_train_scaled_deep = x_train_scaled[:,2:]\n",
    "x_valid_scaled_wide = x_valid_scaled[:,:5]\n",
    "x_valid_scaled_deep = x_valid_scaled[:,2:]\n",
    "x_test_scaled_wide = x_test_scaled[:,:5]\n",
    "x_test_scaled_deep = x_test_scaled[:,2:]"
   ]
  },
  {
   "cell_type": "code",
   "execution_count": 9,
   "metadata": {},
   "outputs": [
    {
     "name": "stdout",
     "output_type": "stream",
     "text": [
      "Train on 11610 samples, validate on 3870 samples\n",
      "Epoch 1/50\n",
      "11610/11610 [==============================] - 2s 140us/sample - loss: 1.4846 - dense_3_loss: 0.6508 - dense_4_loss: 0.8334 - val_loss: 1.2938 - val_dense_3_loss: 0.4995 - val_dense_4_loss: 0.7942\n",
      "Epoch 2/50\n",
      "11610/11610 [==============================] - 1s 58us/sample - loss: 1.0072 - dense_3_loss: 0.4212 - dense_4_loss: 0.5863 - val_loss: 1.2145 - val_dense_3_loss: 0.5118 - val_dense_4_loss: 0.7024\n",
      "Epoch 3/50\n",
      "11610/11610 [==============================] - 1s 59us/sample - loss: 0.9412 - dense_3_loss: 0.3973 - dense_4_loss: 0.5438 - val_loss: 1.0208 - val_dense_3_loss: 0.4182 - val_dense_4_loss: 0.6025\n",
      "Epoch 4/50\n",
      "11610/11610 [==============================] - 1s 60us/sample - loss: 0.9014 - dense_3_loss: 0.3870 - dense_4_loss: 0.5143 - val_loss: 0.9959 - val_dense_3_loss: 0.4061 - val_dense_4_loss: 0.5897\n",
      "Epoch 5/50\n",
      "11610/11610 [==============================] - 1s 60us/sample - loss: 0.8654 - dense_3_loss: 0.3756 - dense_4_loss: 0.4897 - val_loss: 0.9901 - val_dense_3_loss: 0.3996 - val_dense_4_loss: 0.5903\n",
      "Epoch 6/50\n",
      "11610/11610 [==============================] - 1s 59us/sample - loss: 0.8652 - dense_3_loss: 0.3752 - dense_4_loss: 0.4900 - val_loss: 1.0259 - val_dense_3_loss: 0.4283 - val_dense_4_loss: 0.5975\n",
      "Epoch 7/50\n",
      "11610/11610 [==============================] - 1s 59us/sample - loss: 0.8336 - dense_3_loss: 0.3640 - dense_4_loss: 0.4695 - val_loss: 0.9815 - val_dense_3_loss: 0.4216 - val_dense_4_loss: 0.5597\n",
      "Epoch 8/50\n",
      "11610/11610 [==============================] - 1s 60us/sample - loss: 0.8431 - dense_3_loss: 0.3701 - dense_4_loss: 0.4730 - val_loss: 1.0476 - val_dense_3_loss: 0.4422 - val_dense_4_loss: 0.6052\n",
      "Epoch 9/50\n",
      "11610/11610 [==============================] - 1s 59us/sample - loss: 0.8222 - dense_3_loss: 0.3635 - dense_4_loss: 0.4587 - val_loss: 1.0032 - val_dense_3_loss: 0.4580 - val_dense_4_loss: 0.5451\n",
      "Epoch 10/50\n",
      "11610/11610 [==============================] - 1s 59us/sample - loss: 0.8031 - dense_3_loss: 0.3560 - dense_4_loss: 0.4470 - val_loss: 0.8964 - val_dense_3_loss: 0.3852 - val_dense_4_loss: 0.5110\n",
      "Epoch 11/50\n",
      "11610/11610 [==============================] - 1s 59us/sample - loss: 0.8073 - dense_3_loss: 0.3598 - dense_4_loss: 0.4475 - val_loss: 0.8241 - val_dense_3_loss: 0.3578 - val_dense_4_loss: 0.4663\n",
      "Epoch 12/50\n",
      "11610/11610 [==============================] - 1s 63us/sample - loss: 0.7920 - dense_3_loss: 0.3541 - dense_4_loss: 0.4378 - val_loss: 0.9426 - val_dense_3_loss: 0.3960 - val_dense_4_loss: 0.5465\n",
      "Epoch 13/50\n",
      "11610/11610 [==============================] - 1s 64us/sample - loss: 0.7920 - dense_3_loss: 0.3568 - dense_4_loss: 0.4351 - val_loss: 1.0683 - val_dense_3_loss: 0.4828 - val_dense_4_loss: 0.5853\n",
      "Epoch 14/50\n",
      "11610/11610 [==============================] - 1s 65us/sample - loss: 0.7923 - dense_3_loss: 0.3540 - dense_4_loss: 0.4383 - val_loss: 0.8194 - val_dense_3_loss: 0.3540 - val_dense_4_loss: 0.4653\n",
      "Epoch 15/50\n",
      "11610/11610 [==============================] - 1s 62us/sample - loss: 0.7780 - dense_3_loss: 0.3484 - dense_4_loss: 0.4296 - val_loss: 0.9666 - val_dense_3_loss: 0.4211 - val_dense_4_loss: 0.5453\n",
      "Epoch 16/50\n",
      "11610/11610 [==============================] - 1s 60us/sample - loss: 0.7786 - dense_3_loss: 0.3473 - dense_4_loss: 0.4311 - val_loss: 0.8533 - val_dense_3_loss: 0.3724 - val_dense_4_loss: 0.4808\n"
     ]
    }
   ],
   "source": [
    "model.compile(loss=\"mean_squared_error\",optimizer=\"sgd\")#,metrics=[\"accuracy\"])\n",
    "\n",
    "# #重新建立文件夹\n",
    "# logdir = './wide_deep_subclass'\n",
    "# if os.path.exists(logdir):\n",
    "#     shutil.rmtree(logdir)\n",
    "# os.mkdir(logdir)    \n",
    "# output_model_file = os.path.join(logdir,\n",
    "#                                 \"house_price_model.h5\")\n",
    "\n",
    "# #Tensorboard, earlystopping, ModelCheckpoint\n",
    "callbacks = [\n",
    "#    keras.callbacks.TensorBoard(logdir),\n",
    "#    keras.callbacks.ModelCheckpoint(output_model_file,\n",
    "#                                   save_best_only=True),\n",
    "    keras.callbacks.EarlyStopping(patience=5, min_delta=1e-2) #连续5次损失函数和上一次差距小于1e-3即可停止训练    \n",
    "]\n",
    "\n",
    "\n",
    "his = model.fit([x_train_scaled_wide,x_train_scaled_deep],\n",
    "                [y_train,y_train],\n",
    "         validation_data=([x_valid_scaled_wide,x_valid_scaled_deep],[y_valid,y_valid]),\n",
    "                epochs =50\n",
    "                 ,callbacks = callbacks)  #epochs 训练次数\n",
    "#终端命令 tensorboard --logdir=callbacks "
   ]
  },
  {
   "cell_type": "code",
   "execution_count": 10,
   "metadata": {},
   "outputs": [
    {
     "data": {
      "image/png": "[encoded data removed]",
      "text/plain": [
       "<Figure size 576x360 with 1 Axes>"
      ]
     },
     "metadata": {},
     "output_type": "display_data"
    }
   ],
   "source": [
    " def plot_learning_curves(his):\n",
    "        pd.DataFrame(his.history).plot(figsize=(8,5))\n",
    "        plt.grid(True)\n",
    "        plt.gca().set_ylim(0.3,0.6)\n",
    "        plt.show()\n",
    "        \n",
    "plot_learning_curves(his)"
   ]
  },
  {
   "cell_type": "code",
   "execution_count": 11,
   "metadata": {},
   "outputs": [
    {
     "name": "stdout",
     "output_type": "stream",
     "text": [
      "5160/5160 [==============================] - 0s 26us/sample - loss: 0.8165 - dense_3_loss: 0.3633 - dense_4_loss: 0.4548\n"
     ]
    },
    {
     "data": {
      "text/plain": [
       "[0.8165312685707743, 0.36329466, 0.45484355]"
      ]
     },
     "execution_count": 11,
     "metadata": {},
     "output_type": "execute_result"
    }
   ],
   "source": [
    "model.evaluate([x_test_scaled_wide,x_test_scaled_deep], [y_test,y_test])"
   ]
  },
  {
   "cell_type": "code",
   "execution_count": 17,
   "metadata": {},
   "outputs": [
    {
     "data": {
      "text/plain": [
       "[array([[1.9176705],\n",
       "        [2.6469078],\n",
       "        [2.669818 ],\n",
       "        [3.1550868],\n",
       "        [4.481745 ]], dtype=float32), array([[1.9128911],\n",
       "        [2.7031124],\n",
       "        [2.5336585],\n",
       "        [2.8457606],\n",
       "        [4.332422 ]], dtype=float32)]"
      ]
     },
     "execution_count": 17,
     "metadata": {},
     "output_type": "execute_result"
    }
   ],
   "source": [
    "model.predict([x_test_scaled_wide[:5],x_test_scaled_deep[:5]])"
   ]
  },
  {
   "cell_type": "code",
   "execution_count": 19,
   "metadata": {},
   "outputs": [
    {
     "data": {
      "text/plain": [
       "array([[-0.96598484,  0.19206119, -1.04889736, -0.01490369,  1.52283907,\n",
       "         0.01281729, -0.73906413,  0.63164745],\n",
       "       [ 0.24771283,  0.11196095, -0.15638057, -0.1730796 , -0.47500511,\n",
       "        -0.0636657 , -0.85570637,  0.63164745],\n",
       "       [-0.08829461,  1.87416616, -0.23201227, -0.2563304 , -0.34526319,\n",
       "        -0.1387746 ,  1.0105695 , -1.33078543],\n",
       "       [-0.64020788, -0.20844   , -0.64733206,  0.0108279 ,  0.35606903,\n",
       "        -0.14942054,  0.99657243, -1.42566132],\n",
       "       [ 2.8542482 , -0.44874071,  1.08214458, -0.26405833, -0.46502496,\n",
       "        -0.01873781,  0.73062811, -1.14103365]])"
      ]
     },
     "execution_count": 19,
     "metadata": {},
     "output_type": "execute_result"
    }
   ],
   "source": [
    "x_test_scaled[:5]"
   ]
  },
  {
   "cell_type": "code",
   "execution_count": 15,
   "metadata": {},
   "outputs": [
    {
     "data": {
      "text/plain": [
       "array([-0.96598484,  0.19206119, -1.04889736, -0.01490369,  1.52283907])"
      ]
     },
     "execution_count": 15,
     "metadata": {},
     "output_type": "execute_result"
    }
   ],
   "source": [
    "x_test_scaled_wide[0]"
   ]
  },
  {
   "cell_type": "code",
   "execution_count": null,
   "metadata": {},
   "outputs": [],
   "source": []
  }
 ],
 "metadata": {
  "kernelspec": {
   "display_name": "Python 3",
   "language": "python",
   "name": "python3"
  },
  "language_info": {
   "codemirror_mode": {
    "name": "ipython",
    "version": 3
   },
   "file_extension": ".py",
   "mimetype": "text/x-python",
   "name": "python",
   "nbconvert_exporter": "python",
   "pygments_lexer": "ipython3",
   "version": "3.6.5"
  }
 },
 "nbformat": 4,
 "nbformat_minor": 2
}
